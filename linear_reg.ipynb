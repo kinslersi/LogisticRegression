{
  "nbformat": 4,
  "nbformat_minor": 0,
  "metadata": {
    "colab": {
      "provenance": [],
      "authorship_tag": "ABX9TyPmZ3Xd+DpvzcaOcA/fyUHB",
      "include_colab_link": true
    },
    "kernelspec": {
      "name": "python3",
      "display_name": "Python 3"
    },
    "language_info": {
      "name": "python"
    }
  },
  "cells": [
    {
      "cell_type": "markdown",
      "metadata": {
        "id": "view-in-github",
        "colab_type": "text"
      },
      "source": [
        "<a href=\"https://colab.research.google.com/github/kinslersi/LogisticRegression/blob/main/linear_reg.ipynb\" target=\"_parent\"><img src=\"https://colab.research.google.com/assets/colab-badge.svg\" alt=\"Open In Colab\"/></a>"
      ]
    },
    {
      "cell_type": "code",
      "execution_count": 2,
      "metadata": {
        "colab": {
          "base_uri": "https://localhost:8080/"
        },
        "id": "LmooLhlp4Pwd",
        "outputId": "b9de6708-b8c8-4723-940c-09586e90bff5"
      },
      "outputs": [
        {
          "output_type": "stream",
          "name": "stdout",
          "text": [
            "Looking in indexes: https://pypi.org/simple, https://us-python.pkg.dev/colab-wheels/public/simple/\n",
            "Requirement already satisfied: pandas in /usr/local/lib/python3.8/dist-packages (1.3.5)\n",
            "Requirement already satisfied: python-dateutil>=2.7.3 in /usr/local/lib/python3.8/dist-packages (from pandas) (2.8.2)\n",
            "Requirement already satisfied: numpy>=1.17.3 in /usr/local/lib/python3.8/dist-packages (from pandas) (1.21.6)\n",
            "Requirement already satisfied: pytz>=2017.3 in /usr/local/lib/python3.8/dist-packages (from pandas) (2022.7.1)\n",
            "Requirement already satisfied: six>=1.5 in /usr/local/lib/python3.8/dist-packages (from python-dateutil>=2.7.3->pandas) (1.15.0)\n",
            "Looking in indexes: https://pypi.org/simple, https://us-python.pkg.dev/colab-wheels/public/simple/\n",
            "Requirement already satisfied: numpy in /usr/local/lib/python3.8/dist-packages (1.21.6)\n",
            "Looking in indexes: https://pypi.org/simple, https://us-python.pkg.dev/colab-wheels/public/simple/\n",
            "Collecting sklearn\n",
            "  Downloading sklearn-0.0.post1.tar.gz (3.6 kB)\n",
            "  \u001b[1;31merror\u001b[0m: \u001b[1msubprocess-exited-with-error\u001b[0m\n",
            "  \n",
            "  \u001b[31m×\u001b[0m \u001b[32mpython setup.py egg_info\u001b[0m did not run successfully.\n",
            "  \u001b[31m│\u001b[0m exit code: \u001b[1;36m1\u001b[0m\n",
            "  \u001b[31m╰─>\u001b[0m See above for output.\n",
            "  \n",
            "  \u001b[1;35mnote\u001b[0m: This error originates from a subprocess, and is likely not a problem with pip.\n",
            "  Preparing metadata (setup.py) ... \u001b[?25l\u001b[?25herror\n",
            "\u001b[1;31merror\u001b[0m: \u001b[1mmetadata-generation-failed\u001b[0m\n",
            "\n",
            "\u001b[31m×\u001b[0m Encountered error while generating package metadata.\n",
            "\u001b[31m╰─>\u001b[0m See above for output.\n",
            "\n",
            "\u001b[1;35mnote\u001b[0m: This is an issue with the package mentioned above, not pip.\n",
            "\u001b[1;36mhint\u001b[0m: See above for details.\n",
            "Looking in indexes: https://pypi.org/simple, https://us-python.pkg.dev/colab-wheels/public/simple/\n",
            "Requirement already satisfied: matplotlib in /usr/local/lib/python3.8/dist-packages (3.2.2)\n",
            "Requirement already satisfied: pyparsing!=2.0.4,!=2.1.2,!=2.1.6,>=2.0.1 in /usr/local/lib/python3.8/dist-packages (from matplotlib) (3.0.9)\n",
            "Requirement already satisfied: python-dateutil>=2.1 in /usr/local/lib/python3.8/dist-packages (from matplotlib) (2.8.2)\n",
            "Requirement already satisfied: kiwisolver>=1.0.1 in /usr/local/lib/python3.8/dist-packages (from matplotlib) (1.4.4)\n",
            "Requirement already satisfied: cycler>=0.10 in /usr/local/lib/python3.8/dist-packages (from matplotlib) (0.11.0)\n",
            "Requirement already satisfied: numpy>=1.11 in /usr/local/lib/python3.8/dist-packages (from matplotlib) (1.21.6)\n",
            "Requirement already satisfied: six>=1.5 in /usr/local/lib/python3.8/dist-packages (from python-dateutil>=2.1->matplotlib) (1.15.0)\n",
            "Looking in indexes: https://pypi.org/simple, https://us-python.pkg.dev/colab-wheels/public/simple/\n",
            "Requirement already satisfied: seaborn in /usr/local/lib/python3.8/dist-packages (0.11.2)\n",
            "Requirement already satisfied: numpy>=1.15 in /usr/local/lib/python3.8/dist-packages (from seaborn) (1.21.6)\n",
            "Requirement already satisfied: scipy>=1.0 in /usr/local/lib/python3.8/dist-packages (from seaborn) (1.7.3)\n",
            "Requirement already satisfied: matplotlib>=2.2 in /usr/local/lib/python3.8/dist-packages (from seaborn) (3.2.2)\n",
            "Requirement already satisfied: pandas>=0.23 in /usr/local/lib/python3.8/dist-packages (from seaborn) (1.3.5)\n",
            "Requirement already satisfied: python-dateutil>=2.1 in /usr/local/lib/python3.8/dist-packages (from matplotlib>=2.2->seaborn) (2.8.2)\n",
            "Requirement already satisfied: pyparsing!=2.0.4,!=2.1.2,!=2.1.6,>=2.0.1 in /usr/local/lib/python3.8/dist-packages (from matplotlib>=2.2->seaborn) (3.0.9)\n",
            "Requirement already satisfied: cycler>=0.10 in /usr/local/lib/python3.8/dist-packages (from matplotlib>=2.2->seaborn) (0.11.0)\n",
            "Requirement already satisfied: kiwisolver>=1.0.1 in /usr/local/lib/python3.8/dist-packages (from matplotlib>=2.2->seaborn) (1.4.4)\n",
            "Requirement already satisfied: pytz>=2017.3 in /usr/local/lib/python3.8/dist-packages (from pandas>=0.23->seaborn) (2022.7.1)\n",
            "Requirement already satisfied: six>=1.5 in /usr/local/lib/python3.8/dist-packages (from python-dateutil>=2.1->matplotlib>=2.2->seaborn) (1.15.0)\n",
            "Looking in indexes: https://pypi.org/simple, https://us-python.pkg.dev/colab-wheels/public/simple/\n",
            "Requirement already satisfied: statsmodels in /usr/local/lib/python3.8/dist-packages (0.12.2)\n",
            "Requirement already satisfied: patsy>=0.5 in /usr/local/lib/python3.8/dist-packages (from statsmodels) (0.5.3)\n",
            "Requirement already satisfied: numpy>=1.15 in /usr/local/lib/python3.8/dist-packages (from statsmodels) (1.21.6)\n",
            "Requirement already satisfied: pandas>=0.21 in /usr/local/lib/python3.8/dist-packages (from statsmodels) (1.3.5)\n",
            "Requirement already satisfied: scipy>=1.1 in /usr/local/lib/python3.8/dist-packages (from statsmodels) (1.7.3)\n",
            "Requirement already satisfied: pytz>=2017.3 in /usr/local/lib/python3.8/dist-packages (from pandas>=0.21->statsmodels) (2022.7.1)\n",
            "Requirement already satisfied: python-dateutil>=2.7.3 in /usr/local/lib/python3.8/dist-packages (from pandas>=0.21->statsmodels) (2.8.2)\n",
            "Requirement already satisfied: six in /usr/local/lib/python3.8/dist-packages (from patsy>=0.5->statsmodels) (1.15.0)\n"
          ]
        }
      ],
      "source": [
        "!pip install pandas\n",
        "!pip install numpy\n",
        "!pip install sklearn\n",
        "!pip install matplotlib\n",
        "!pip install seaborn \n",
        "!pip install statsmodels"
      ]
    },
    {
      "cell_type": "code",
      "source": [
        "import pandas as pd\n",
        "import numpy as np\n",
        "from sklearn.model_selection import train_test_split\n",
        "from sklearn.linear_model import LogisticRegression\n",
        "import matplotlib.pyplot as plt\n",
        "import seaborn as sns\n",
        "from statsmodels.stats.outliers_influence import variance_inflation_factor"
      ],
      "metadata": {
        "id": "-W4SzS0l4SKG"
      },
      "execution_count": 3,
      "outputs": []
    },
    {
      "cell_type": "code",
      "source": [
        "# Exploratory analysis\n",
        "\n",
        "df=pd.read_csv('Debernardi et al 2020 data.csv')\n",
        "pd.set_option('display.max_columns',None)\n",
        "print(df.info())\n",
        "print(df)"
      ],
      "metadata": {
        "colab": {
          "base_uri": "https://localhost:8080/"
        },
        "id": "oaTaBA6X5BdU",
        "outputId": "8ae0acce-fd2f-4d0f-e041-173a13bc5adb"
      },
      "execution_count": 5,
      "outputs": [
        {
          "output_type": "stream",
          "name": "stdout",
          "text": [
            "<class 'pandas.core.frame.DataFrame'>\n",
            "RangeIndex: 590 entries, 0 to 589\n",
            "Data columns (total 14 columns):\n",
            " #   Column                   Non-Null Count  Dtype  \n",
            "---  ------                   --------------  -----  \n",
            " 0   sample_id                590 non-null    object \n",
            " 1   patient_cohort           590 non-null    object \n",
            " 2   sample_origin            590 non-null    object \n",
            " 3   age                      590 non-null    int64  \n",
            " 4   sex                      590 non-null    object \n",
            " 5   diagnosis                590 non-null    int64  \n",
            " 6   stage                    199 non-null    object \n",
            " 7   benign_sample_diagnosis  208 non-null    object \n",
            " 8   plasma_CA19_9            350 non-null    float64\n",
            " 9   creatinine               590 non-null    float64\n",
            " 10  LYVE1                    590 non-null    float64\n",
            " 11  REG1B                    590 non-null    float64\n",
            " 12  TFF1                     590 non-null    float64\n",
            " 13  REG1A                    306 non-null    float64\n",
            "dtypes: float64(6), int64(2), object(6)\n",
            "memory usage: 64.7+ KB\n",
            "None\n",
            "    sample_id patient_cohort sample_origin  age sex  diagnosis stage  \\\n",
            "0          S1        Cohort1          BPTB   33   F          1   NaN   \n",
            "1         S10        Cohort1          BPTB   81   F          1   NaN   \n",
            "2        S100        Cohort2          BPTB   51   M          1   NaN   \n",
            "3        S101        Cohort2          BPTB   61   M          1   NaN   \n",
            "4        S102        Cohort2          BPTB   62   M          1   NaN   \n",
            "..        ...            ...           ...  ...  ..        ...   ...   \n",
            "585      S549        Cohort2          BPTB   68   M          3    IV   \n",
            "586      S558        Cohort2          BPTB   71   F          3    IV   \n",
            "587      S560        Cohort2          BPTB   63   M          3    IV   \n",
            "588      S583        Cohort2          BPTB   75   F          3    IV   \n",
            "589      S590        Cohort1          BPTB   74   M          3    IV   \n",
            "\n",
            "    benign_sample_diagnosis  plasma_CA19_9  creatinine     LYVE1       REG1B  \\\n",
            "0                       NaN           11.7     1.83222  0.893219   52.948840   \n",
            "1                       NaN            NaN     0.97266  2.037585   94.467030   \n",
            "2                       NaN            7.0     0.78039  0.145589  102.366000   \n",
            "3                       NaN            8.0     0.70122  0.002805   60.579000   \n",
            "4                       NaN            9.0     0.21489  0.000860   65.540000   \n",
            "..                      ...            ...         ...       ...         ...   \n",
            "585                     NaN            NaN     0.52026  7.058209  156.241000   \n",
            "586                     NaN            NaN     0.85956  8.341207   16.915000   \n",
            "587                     NaN            NaN     1.36851  7.674707  289.701000   \n",
            "588                     NaN            NaN     1.33458  8.206777  205.930000   \n",
            "589                     NaN         1488.0     1.50423  8.200958  411.938275   \n",
            "\n",
            "            TFF1      REG1A  \n",
            "0     654.282174   1262.000  \n",
            "1     209.488250    228.407  \n",
            "2     461.141000        NaN  \n",
            "3     142.950000        NaN  \n",
            "4      41.088000        NaN  \n",
            "..           ...        ...  \n",
            "585   525.178000        NaN  \n",
            "586   245.947000        NaN  \n",
            "587   537.286000        NaN  \n",
            "588   722.523000        NaN  \n",
            "589  2021.321078  13200.000  \n",
            "\n",
            "[590 rows x 14 columns]\n"
          ]
        }
      ]
    },
    {
      "cell_type": "code",
      "source": [
        "# preprocessing\n",
        "\n",
        "data=df.drop(['sample_id','patient_cohort','sample_origin','stage','benign_sample_diagnosis','plasma_CA19_9','REG1A'],axis=1)\n",
        "sex_number={'F':0,\"M\":1}\n",
        "data['sex'].replace(sex_number,inplace=True)  # set female as 0, male as 1\n",
        "print(data.head(10))"
      ],
      "metadata": {
        "colab": {
          "base_uri": "https://localhost:8080/"
        },
        "id": "9EjrqQZH5fQ2",
        "outputId": "4150f912-e236-40e7-bbe2-2f9f64f6ea07"
      },
      "execution_count": 6,
      "outputs": [
        {
          "output_type": "stream",
          "name": "stdout",
          "text": [
            "   age  sex  diagnosis  creatinine     LYVE1      REG1B        TFF1\n",
            "0   33    0          1     1.83222  0.893219   52.94884  654.282174\n",
            "1   81    0          1     0.97266  2.037585   94.46703  209.488250\n",
            "2   51    1          1     0.78039  0.145589  102.36600  461.141000\n",
            "3   61    1          1     0.70122  0.002805   60.57900  142.950000\n",
            "4   62    1          1     0.21489  0.000860   65.54000   41.088000\n",
            "5   53    1          1     0.84825  0.003393   62.12600   59.793000\n",
            "6   70    1          1     0.62205  0.174381  152.27700  117.516000\n",
            "7   58    0          1     0.89349  0.003574    3.73000   40.294000\n",
            "8   59    0          1     0.48633  0.001945    7.02100   26.782000\n",
            "9   56    0          1     0.61074  0.278778   83.92800   19.185000\n"
          ]
        }
      ]
    },
    {
      "cell_type": "code",
      "source": [
        "# split data \n",
        "\n",
        "y=data['diagnosis']\n",
        "x=data.drop(['diagnosis'],axis=1)"
      ],
      "metadata": {
        "id": "M1E2k_8b54WL"
      },
      "execution_count": 7,
      "outputs": []
    },
    {
      "cell_type": "code",
      "source": [
        "# check the correction \n",
        "\n",
        "corr=data.corr()\n",
        "sns.heatmap(corr,vmax=0,vmin=1,annot=True,cbar=True)\n",
        "plt.title('correlation for each pair of features')\n",
        "plt.show()   # assume that exceed 0.7 correlation might causing multicollinearity to reduced reg coefficient accurancy"
      ],
      "metadata": {
        "colab": {
          "base_uri": "https://localhost:8080/",
          "height": 321
        },
        "id": "U_AaSROZ6BXc",
        "outputId": "87d34fb1-2574-421b-985d-6c5f4fc03aa2"
      },
      "execution_count": 8,
      "outputs": [
        {
          "output_type": "display_data",
          "data": {
            "text/plain": [
              "<Figure size 432x288 with 2 Axes>"
            ],
            "image/png": "[encoded data removed]"
          },
          "metadata": {
            "needs_background": "light"
          }
        }
      ]
    },
    {
      "cell_type": "code",
      "source": [
        "# Detecting Multicollinearity\n",
        "def compute_vif(considered_variables):\n",
        "    z=data[considered_variables]\n",
        "    # create dataframe to restore vif\n",
        "    vif=pd.DataFrame()\n",
        "    vif['variables']=z.columns\n",
        "    vif['vif']=[variance_inflation_factor(z.values, i) for i in range(len(z.columns))]\n",
        "    return vif\n",
        "Multicollinearity1=compute_vif(x.columns)\n",
        "print(Multicollinearity1)     # vif=1 means no correlation, vif>5or10 is too high to contributing multicollinearity"
      ],
      "metadata": {
        "colab": {
          "base_uri": "https://localhost:8080/"
        },
        "id": "bmNYWR2g6i5T",
        "outputId": "b3e2e889-d613-46db-d7cd-2438c2e2568e"
      },
      "execution_count": 9,
      "outputs": [
        {
          "output_type": "stream",
          "name": "stdout",
          "text": [
            "    variables       vif\n",
            "0         age  3.320921\n",
            "1         sex  2.045946\n",
            "2  creatinine  3.077264\n",
            "3       LYVE1  3.099881\n",
            "4       REG1B  2.721350\n",
            "5        TFF1  3.094782\n"
          ]
        }
      ]
    },
    {
      "cell_type": "code",
      "source": [
        "\"\"\" \n",
        "Since creatinine and all the other proteins are important for the diagnosis, \n",
        "we'll try to remove other features that might not be important. After taking a look \n",
        "at the correlation plot, we'll try to remove \"sex\" and see if the vif scores get any better \n",
        "\"\"\"\n",
        "x1=x.drop(['sex','age'],axis=1)\n",
        "Multicollinearity2=compute_vif(x1.columns)\n",
        "print(Multicollinearity2)"
      ],
      "metadata": {
        "colab": {
          "base_uri": "https://localhost:8080/"
        },
        "id": "iU2gqQeV6wYH",
        "outputId": "3586da59-e2dd-464b-ab01-34bba7ee4ea5"
      },
      "execution_count": 10,
      "outputs": [
        {
          "output_type": "stream",
          "name": "stdout",
          "text": [
            "    variables       vif\n",
            "0  creatinine  2.004829\n",
            "1       LYVE1  2.734736\n",
            "2       REG1B  2.686825\n",
            "3        TFF1  3.040989\n"
          ]
        }
      ]
    },
    {
      "cell_type": "code",
      "source": [
        "# define the multinomial logistic regression model\n",
        "# test six variables fitting the model('age', 'sex', 'creatinine', 'LYVE1', 'REG1B', 'TFF1')\n",
        "x_train,x_test,y_train,y_test=train_test_split(x,y,test_size=0.2)\n",
        "reg1=LogisticRegression(multi_class='multinomial', solver='lbfgs')\n",
        "reg1.fit(x_train,y_train)   # 比較係數之間對y的影響程度大小再標準化，因為需要放在相同的尺度上，預測時做標準化會存在誤差\n",
        "print('對test預測:',reg1.predict(x_test))\n",
        "print('x準確率:',reg1.score(x_test,y_test))\n",
        "\n",
        "# test four variables fitting the model('creatinine', 'LYVE1', 'REG1B', 'TFF1')\n",
        "x1_train,x1_test,y_train,y_test=train_test_split(x1,y,test_size=0.2)\n",
        "reg2=LogisticRegression(multi_class='multinomial', solver='lbfgs')\n",
        "reg2.fit(x1_train,y_train)  \n",
        "print('對test預測:',reg2.predict(x1_test))\n",
        "print('x1準確率:',reg2.score(x1_test,y_test))"
      ],
      "metadata": {
        "colab": {
          "base_uri": "https://localhost:8080/"
        },
        "id": "dRkkiF3c67i7",
        "outputId": "866b149f-dce1-4071-a2f4-142211fee52d"
      },
      "execution_count": 11,
      "outputs": [
        {
          "output_type": "stream",
          "name": "stderr",
          "text": [
            "/usr/local/lib/python3.8/dist-packages/sklearn/linear_model/_logistic.py:814: ConvergenceWarning: lbfgs failed to converge (status=1):\n",
            "STOP: TOTAL NO. of ITERATIONS REACHED LIMIT.\n",
            "\n",
            "Increase the number of iterations (max_iter) or scale the data as shown in:\n",
            "    https://scikit-learn.org/stable/modules/preprocessing.html\n",
            "Please also refer to the documentation for alternative solver options:\n",
            "    https://scikit-learn.org/stable/modules/linear_model.html#logistic-regression\n",
            "  n_iter_i = _check_optimize_result(\n"
          ]
        },
        {
          "output_type": "stream",
          "name": "stdout",
          "text": [
            "對test預測: [2 2 2 2 3 1 2 2 1 2 2 2 1 3 2 2 2 3 3 3 3 3 1 1 2 3 2 3 2 3 2 2 3 1 3 2 2\n",
            " 1 1 2 1 1 3 2 1 2 1 1 2 1 2 3 2 2 1 3 2 3 3 2 3 2 3 2 3 2 1 2 1 1 2 2 3 2\n",
            " 3 3 1 2 3 2 1 1 1 2 3 3 2 1 3 2 1 1 1 2 3 2 1 3 3 1 1 1 2 3 1 2 2 2 2 3 3\n",
            " 3 1 3 3 1 2 3]\n",
            "x準確率: 0.5169491525423728\n",
            "對test預測: [3 1 1 3 2 1 1 2 1 1 1 1 3 2 3 1 2 1 2 1 3 3 2 1 1 1 2 1 3 3 1 1 1 3 1 2 3\n",
            " 1 2 3 2 1 1 3 2 2 3 2 2 2 1 3 3 3 2 3 1 3 1 3 2 2 1 1 2 2 2 1 1 3 1 1 1 1\n",
            " 3 1 2 3 1 2 1 3 1 1 3 1 3 3 3 1 1 1 1 1 2 3 3 3 3 1 2 1 1 2 1 3 1 3 1 1 3\n",
            " 1 1 2 2 1 1 1]\n",
            "x1準確率: 0.5932203389830508\n"
          ]
        },
        {
          "output_type": "stream",
          "name": "stderr",
          "text": [
            "/usr/local/lib/python3.8/dist-packages/sklearn/linear_model/_logistic.py:814: ConvergenceWarning: lbfgs failed to converge (status=1):\n",
            "STOP: TOTAL NO. of ITERATIONS REACHED LIMIT.\n",
            "\n",
            "Increase the number of iterations (max_iter) or scale the data as shown in:\n",
            "    https://scikit-learn.org/stable/modules/preprocessing.html\n",
            "Please also refer to the documentation for alternative solver options:\n",
            "    https://scikit-learn.org/stable/modules/linear_model.html#logistic-regression\n",
            "  n_iter_i = _check_optimize_result(\n"
          ]
        }
      ]
    },
    {
      "cell_type": "code",
      "source": [
        "# multiple coefficient regresson model intercept and coefficient\n",
        "print('reg2 intercept:',reg2.intercept_)\n",
        "print('reg2 coefficeint:',reg2.coef_)"
      ],
      "metadata": {
        "colab": {
          "base_uri": "https://localhost:8080/"
        },
        "id": "GBLhR3ov7Ow7",
        "outputId": "5acecee7-e02c-414a-c12c-a413d5760bbe"
      },
      "execution_count": 12,
      "outputs": [
        {
          "output_type": "stream",
          "name": "stdout",
          "text": [
            "reg2 intercept: [ 0.48574841  0.23088461 -0.71663302]\n",
            "reg2 coefficeint: [[ 5.37457578e-01 -1.24032562e-01 -5.54312228e-04 -1.72490896e-03]\n",
            " [ 1.28232441e-01 -1.09075199e-01 -8.27555854e-04  8.14370567e-04]\n",
            " [-6.65690020e-01  2.33107761e-01  1.38186808e-03  9.10538397e-04]]\n"
          ]
        }
      ]
    }
  ]
}